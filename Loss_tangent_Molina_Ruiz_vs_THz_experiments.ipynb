{
  "nbformat": 4,
  "nbformat_minor": 0,
  "metadata": {
    "colab": {
      "name": "Loss tangent Molina-Ruiz vs THz experiments",
      "provenance": [],
      "collapsed_sections": [],
      "include_colab_link": true
    },
    "kernelspec": {
      "name": "python3",
      "display_name": "Python 3"
    }
  },
  "cells": [
    {
      "cell_type": "markdown",
      "metadata": {
        "id": "view-in-github",
        "colab_type": "text"
      },
      "source": [
        "<a href=\"https://colab.research.google.com/github/brunobuijtendorp/colab/blob/master/Loss_tangent_Molina_Ruiz_vs_THz_experiments.ipynb\" target=\"_parent\"><img src=\"https://colab.research.google.com/assets/colab-badge.svg\" alt=\"Open In Colab\"/></a>"
      ]
    },
    {
      "cell_type": "markdown",
      "metadata": {
        "id": "-hrTnCbC0U6N",
        "colab_type": "text"
      },
      "source": [
        "The TLS induced loss tangent at weak electric field is:\n",
        "\n",
        "$$\\delta_{TLS} = \\delta_{TLS}^0 \\tanh{\\frac{\\hbar \\omega}{2k_B T}},$$\n",
        "\n",
        "where $\\delta_{TLS}^0$ is the TLS induced loss tangent in weak electric field and at zero temperature. The loss tangent measurements of the Molina-Ruiz paper are performed at 10 mK, and at 5 GHz. Let's compare this with our THz measurements at 120 mK and 300 GHz. "
      ]
    },
    {
      "cell_type": "code",
      "metadata": {
        "id": "la5kVdYZ0P_c",
        "colab_type": "code",
        "colab": {
          "base_uri": "https://localhost:8080/",
          "height": 34
        },
        "outputId": "3b3e36d2-213e-4c91-e199-726e7d5340b5"
      },
      "source": [
        "import numpy as np\n",
        "hbar = 1.055 * 10**-34\n",
        "k_B = 1.381 * 10**-23 \n",
        "\n",
        "y = lambda f,T: np.tanh(hbar * 2 * np.pi * f/ (2 * k_B * T))\n",
        "\n",
        "# 5 Ghz and 10 mK\n",
        "y(5*1e9,10*1e-3)"
      ],
      "execution_count": null,
      "outputs": [
        {
          "output_type": "execute_result",
          "data": {
            "text/plain": [
              "0.9999999999244865"
            ]
          },
          "metadata": {
            "tags": []
          },
          "execution_count": 1
        }
      ]
    },
    {
      "cell_type": "code",
      "metadata": {
        "id": "Cz30kP0Z6qhX",
        "colab_type": "code",
        "colab": {
          "base_uri": "https://localhost:8080/",
          "height": 34
        },
        "outputId": "45f813ee-6239-45af-c31b-e334db0d9ac1"
      },
      "source": [
        "# 300 GHz and 120 mK\n",
        "y(300*1e9,120*1e-3)"
      ],
      "execution_count": null,
      "outputs": [
        {
          "output_type": "execute_result",
          "data": {
            "text/plain": [
              "1.0"
            ]
          },
          "metadata": {
            "tags": []
          },
          "execution_count": 10
        }
      ]
    },
    {
      "cell_type": "markdown",
      "metadata": {
        "id": "qi2orJm39T05",
        "colab_type": "text"
      },
      "source": [
        "We see that the factor $\\tanh{\\frac{\\hbar \\omega}{2k_B T}}$ is in both cases approximately 1. "
      ]
    },
    {
      "cell_type": "code",
      "metadata": {
        "id": "C-HENgF69iMq",
        "colab_type": "code",
        "colab": {
          "base_uri": "https://localhost:8080/",
          "height": 35
        },
        "outputId": "29554805-ce14-40c2-e869-f31e9cafe17a"
      },
      "source": [
        "# 300 GHz and 200 mK\n",
        "y(300*1e9,200*1e-3)"
      ],
      "execution_count": null,
      "outputs": [
        {
          "output_type": "execute_result",
          "data": {
            "text/plain": [
              "1.0"
            ]
          },
          "metadata": {
            "tags": []
          },
          "execution_count": 9
        }
      ]
    },
    {
      "cell_type": "markdown",
      "metadata": {
        "id": "FK6DojeBtjg8",
        "colab_type": "text"
      },
      "source": [
        "Also in the case of 200 mK, the factor is approximately equal to 1. "
      ]
    },
    {
      "cell_type": "markdown",
      "metadata": {
        "id": "FZ6EGzFs1h7k",
        "colab_type": "text"
      },
      "source": [
        "test"
      ]
    },
    {
      "cell_type": "code",
      "metadata": {
        "id": "706bnz8B1Z8i",
        "colab_type": "code",
        "colab": {}
      },
      "source": [
        ""
      ],
      "execution_count": null,
      "outputs": []
    }
  ]
}